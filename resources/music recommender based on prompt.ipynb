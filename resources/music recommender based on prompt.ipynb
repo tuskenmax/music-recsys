{
 "cells": [
  {
   "cell_type": "code",
   "execution_count": 1,
   "metadata": {},
   "outputs": [
    {
     "name": "stderr",
     "output_type": "stream",
     "text": [
      "c:\\Users\\mackm\\AppData\\Local\\Programs\\Python\\Python311\\Lib\\site-packages\\tqdm\\auto.py:21: TqdmWarning: IProgress not found. Please update jupyter and ipywidgets. See https://ipywidgets.readthedocs.io/en/stable/user_install.html\n",
      "  from .autonotebook import tqdm as notebook_tqdm\n"
     ]
    }
   ],
   "source": [
    "import numpy as np\n",
    "import pandas as pd\n",
    "import torch\n",
    "import torch.nn as nn\n",
    "from sklearn.model_selection import train_test_split\n",
    "from sklearn.metrics import classification_report\n",
    "from tqdm import tqdm\n",
    "from sentence_transformers import SentenceTransformer\n",
    "device = torch.device(\"cuda\")\n",
    "import torch.optim as optim\n",
    "from torch.utils.data import DataLoader\n",
    "import matplotlib.pyplot as plt\n",
    "import torch.nn.functional as F\n",
    "from sklearn.metrics import accuracy_score\n",
    "from sklearn.model_selection import KFold\n",
    "from torch.utils.data import Dataset, DataLoader\n",
    "from sklearn.metrics import mean_absolute_error"
   ]
  },
  {
   "cell_type": "code",
   "execution_count": 2,
   "metadata": {},
   "outputs": [],
   "source": [
    "df = pd.read_csv(r'./final_train_data_music_queries.csv')"
   ]
  },
  {
   "cell_type": "code",
   "execution_count": 3,
   "metadata": {},
   "outputs": [
    {
     "data": {
      "text/html": [
       "<div>\n",
       "<style scoped>\n",
       "    .dataframe tbody tr th:only-of-type {\n",
       "        vertical-align: middle;\n",
       "    }\n",
       "\n",
       "    .dataframe tbody tr th {\n",
       "        vertical-align: top;\n",
       "    }\n",
       "\n",
       "    .dataframe thead th {\n",
       "        text-align: right;\n",
       "    }\n",
       "</style>\n",
       "<table border=\"1\" class=\"dataframe\">\n",
       "  <thead>\n",
       "    <tr style=\"text-align: right;\">\n",
       "      <th></th>\n",
       "      <th>query</th>\n",
       "      <th>label</th>\n",
       "    </tr>\n",
       "  </thead>\n",
       "  <tbody>\n",
       "    <tr>\n",
       "      <th>0</th>\n",
       "      <td>I'm looking for some upbeat, rhythmic tracks t...</td>\n",
       "      <td>danceability</td>\n",
       "    </tr>\n",
       "    <tr>\n",
       "      <th>1</th>\n",
       "      <td>Can you suggest some songs that are perfect fo...</td>\n",
       "      <td>danceability</td>\n",
       "    </tr>\n",
       "    <tr>\n",
       "      <th>2</th>\n",
       "      <td>I need a playlist for a dance class, something...</td>\n",
       "      <td>danceability</td>\n",
       "    </tr>\n",
       "    <tr>\n",
       "      <th>3</th>\n",
       "      <td>What are some good songs for a high-energy Zum...</td>\n",
       "      <td>danceability</td>\n",
       "    </tr>\n",
       "    <tr>\n",
       "      <th>4</th>\n",
       "      <td>I'm hosting a get-together and need music that...</td>\n",
       "      <td>danceability</td>\n",
       "    </tr>\n",
       "  </tbody>\n",
       "</table>\n",
       "</div>"
      ],
      "text/plain": [
       "                                               query         label\n",
       "0  I'm looking for some upbeat, rhythmic tracks t...  danceability\n",
       "1  Can you suggest some songs that are perfect fo...  danceability\n",
       "2  I need a playlist for a dance class, something...  danceability\n",
       "3  What are some good songs for a high-energy Zum...  danceability\n",
       "4  I'm hosting a get-together and need music that...  danceability"
      ]
     },
     "execution_count": 3,
     "metadata": {},
     "output_type": "execute_result"
    }
   ],
   "source": [
    "df.head(5)"
   ]
  },
  {
   "cell_type": "code",
   "execution_count": 4,
   "metadata": {},
   "outputs": [
    {
     "data": {
      "text/plain": [
       "array(['danceability', 'valence', 'loudness', 'acousticness', 'tempo',\n",
       "       'speechiness', 'low valence'], dtype=object)"
      ]
     },
     "execution_count": 4,
     "metadata": {},
     "output_type": "execute_result"
    }
   ],
   "source": [
    "df['label'].unique()"
   ]
  },
  {
   "cell_type": "code",
   "execution_count": 5,
   "metadata": {},
   "outputs": [
    {
     "data": {
      "text/plain": [
       "array([0, 1, 2, 3, 4, 5, 6], dtype=int64)"
      ]
     },
     "execution_count": 5,
     "metadata": {},
     "output_type": "execute_result"
    }
   ],
   "source": [
    "df['label_encoded'] = pd.factorize(df['label'])[0]\n",
    "df['label_encoded'].unique()"
   ]
  },
  {
   "cell_type": "markdown",
   "metadata": {},
   "source": [
    "Getting sentence embeddings for all the queries - to make the information processable for a neural network.\n",
    "\n",
    "Model of choice - sentence BERT - creates one embedding for a whole prompt. An embedding is a tensor size [384]."
   ]
  },
  {
   "cell_type": "code",
   "execution_count": 6,
   "metadata": {},
   "outputs": [],
   "source": [
    "llm_model = SentenceTransformer('all-MiniLM-L6-v2')"
   ]
  },
  {
   "cell_type": "code",
   "execution_count": 7,
   "metadata": {},
   "outputs": [],
   "source": [
    "def encode_sentence(sentence):\n",
    "    encoded_sentence = torch.from_numpy(llm_model.encode(sentence))\n",
    "    return encoded_sentence"
   ]
  },
  {
   "cell_type": "code",
   "execution_count": 8,
   "metadata": {},
   "outputs": [
    {
     "name": "stderr",
     "output_type": "stream",
     "text": [
      "  0%|          | 0/35000 [00:00<?, ?it/s]"
     ]
    },
    {
     "name": "stderr",
     "output_type": "stream",
     "text": [
      "100%|██████████| 35000/35000 [06:21<00:00, 91.65it/s] \n"
     ]
    }
   ],
   "source": [
    "tqdm.pandas()\n",
    "df['sentence_embeddings'] = df['query'].progress_apply(encode_sentence)"
   ]
  },
  {
   "cell_type": "code",
   "execution_count": 11,
   "metadata": {},
   "outputs": [],
   "source": [
    "df = df.sample(frac=1).reset_index(drop=True)"
   ]
  },
  {
   "cell_type": "code",
   "execution_count": 12,
   "metadata": {},
   "outputs": [],
   "source": [
    "# train - test - val split\n",
    "df = df.sample(frac=1).reset_index(drop=True)\n",
    "train_sample = df.sample(frac=0.7).reset_index(drop=True)\n",
    "remaining = df.drop(train_sample.index).reset_index(drop=True)\n",
    "val_sample = remaining.sample(frac=0.5).reset_index(drop=True)\n",
    "test_sample = remaining.drop(val_sample.index).reset_index(drop=True)"
   ]
  },
  {
   "cell_type": "code",
   "execution_count": 13,
   "metadata": {},
   "outputs": [
    {
     "data": {
      "text/plain": [
       "torch.float32"
      ]
     },
     "execution_count": 13,
     "metadata": {},
     "output_type": "execute_result"
    }
   ],
   "source": [
    "df['sentence_embeddings'][0].dtype"
   ]
  },
  {
   "cell_type": "code",
   "execution_count": 14,
   "metadata": {},
   "outputs": [],
   "source": [
    "class CustomDataset(Dataset):\n",
    "    def __init__(self, dataframe):\n",
    "        self.data = dataframe['sentence_embeddings']\n",
    "        self.labels = torch.tensor(dataframe['label_encoded'], dtype=torch.long)\n",
    "    \n",
    "    def __len__(self):\n",
    "        return len(self.data)\n",
    "    \n",
    "    def __getitem__(self, idx):\n",
    "        return self.data[idx], self.labels[idx]"
   ]
  },
  {
   "cell_type": "code",
   "execution_count": 15,
   "metadata": {},
   "outputs": [],
   "source": [
    "class MLP(nn.Module):\n",
    "    def __init__(self, input_size, hidden_size, output_size):\n",
    "        super(MLP, self).__init__()\n",
    "        self.fc1 = nn.Linear(input_size, hidden_size)\n",
    "        self.activation = nn.Tanh()\n",
    "        self.fc2 = nn.Linear(hidden_size, output_size)\n",
    "        self.softmax = nn.Softmax(dim=1)\n",
    "    \n",
    "    def forward(self, x):\n",
    "        x = self.activation(self.fc1(x))\n",
    "        x = self.fc2(x)\n",
    "        x = self.softmax(x)\n",
    "        return x"
   ]
  },
  {
   "cell_type": "code",
   "execution_count": 16,
   "metadata": {},
   "outputs": [],
   "source": [
    "def train_loop(train_sample, model, optimizer, criterion, batch_size=512):\n",
    "    running_loss = 0.0\n",
    "    model.train()\n",
    "    train_ds = CustomDataset(train_sample)\n",
    "    train_loader = DataLoader(train_ds, batch_size=batch_size, shuffle=True)\n",
    "    \n",
    "    pbar = tqdm(train_loader)\n",
    "    for batch in pbar:\n",
    "        inputs, labels = batch\n",
    "        inputs = inputs.to(\"cuda\")\n",
    "        labels = labels.to(\"cuda\")\n",
    "        optimizer.zero_grad()\n",
    "        outputs = model(inputs.float())\n",
    "        loss = criterion(outputs, labels)\n",
    "        loss.backward()\n",
    "        optimizer.step()\n",
    "\n",
    "        running_loss += loss.item()\n",
    "    \n",
    "        pbar.set_description(f\"Training Loss: {running_loss / len(train_loader):.4f}\")\n",
    "    \n",
    "    return running_loss / len(train_loader)"
   ]
  },
  {
   "cell_type": "code",
   "execution_count": 17,
   "metadata": {},
   "outputs": [],
   "source": [
    "def validation_loop(val, model, criterion, batch_size=512):\n",
    "    running_loss = 0.0\n",
    "    model.eval()\n",
    "    val_ds = CustomDataset(val)\n",
    "    val_loader = DataLoader(val_ds, batch_size=batch_size)\n",
    "\n",
    "    with torch.no_grad():\n",
    "        for batch in val_loader:\n",
    "            inputs, labels = batch\n",
    "            inputs = inputs.to(\"cuda\")\n",
    "            labels = labels.to(\"cuda\")\n",
    "            outputs = model(inputs.float())\n",
    "            loss = criterion(outputs, labels)\n",
    "            running_loss += loss.item()\n",
    "\n",
    "    print(f\"Validation Loss: {running_loss / len(val_loader):.4f}\")\n",
    "    return running_loss / len(val_loader)"
   ]
  },
  {
   "cell_type": "code",
   "execution_count": 18,
   "metadata": {},
   "outputs": [],
   "source": [
    "def train(model, train_sample, val_sample, criterion, optimizer, device, epochs):\n",
    "    scores = []\n",
    "    losses = []\n",
    "    model.to(device)\n",
    "    for epoch in range(epochs):\n",
    "        print(f\"Epoch {epoch+1}/{epochs}\\n-------------------------------\")\n",
    "        epoch_losses = train_loop(train_sample, model, optimizer, criterion)\n",
    "        epoch_scores = validation_loop(val_sample, model, criterion)\n",
    "\n",
    "        # print(epoch_scores)\n",
    "        scores.append(epoch_scores)\n",
    "        losses.append(epoch_losses)\n",
    "\n",
    "    pd.DataFrame({\"train loss\":losses}).plot(xlabel=\"step\", ylabel=\"loss\", style=\"-\", title=\"Train\")\n",
    "\n",
    "    pd.DataFrame({'score': scores}).plot(xlabel=\"epoch\", ylabel=\"score\", style=\"o-\", title=\"Validation\")\n",
    "    print(\"Done!\")\n",
    "    return model, epoch_losses"
   ]
  },
  {
   "cell_type": "code",
   "execution_count": 19,
   "metadata": {},
   "outputs": [
    {
     "name": "stdout",
     "output_type": "stream",
     "text": [
      "Epoch 1/5\n",
      "-------------------------------\n"
     ]
    },
    {
     "name": "stderr",
     "output_type": "stream",
     "text": [
      "  0%|          | 0/48 [00:00<?, ?it/s]"
     ]
    },
    {
     "name": "stderr",
     "output_type": "stream",
     "text": [
      "Training Loss: 1.8294: 100%|██████████| 48/48 [00:00<00:00, 84.86it/s]\n"
     ]
    },
    {
     "name": "stdout",
     "output_type": "stream",
     "text": [
      "Validation Loss: 1.6256\n",
      "Epoch 2/5\n",
      "-------------------------------\n"
     ]
    },
    {
     "name": "stderr",
     "output_type": "stream",
     "text": [
      "Training Loss: 1.4037: 100%|██████████| 48/48 [00:00<00:00, 97.54it/s]\n"
     ]
    },
    {
     "name": "stdout",
     "output_type": "stream",
     "text": [
      "Validation Loss: 1.2561\n",
      "Epoch 3/5\n",
      "-------------------------------\n"
     ]
    },
    {
     "name": "stderr",
     "output_type": "stream",
     "text": [
      "Training Loss: 1.2151: 100%|██████████| 48/48 [00:00<00:00, 94.84it/s]\n"
     ]
    },
    {
     "name": "stdout",
     "output_type": "stream",
     "text": [
      "Validation Loss: 1.1921\n",
      "Epoch 4/5\n",
      "-------------------------------\n"
     ]
    },
    {
     "name": "stderr",
     "output_type": "stream",
     "text": [
      "Training Loss: 1.1833: 100%|██████████| 48/48 [00:00<00:00, 101.03it/s]\n"
     ]
    },
    {
     "name": "stdout",
     "output_type": "stream",
     "text": [
      "Validation Loss: 1.1776\n",
      "Epoch 5/5\n",
      "-------------------------------\n"
     ]
    },
    {
     "name": "stderr",
     "output_type": "stream",
     "text": [
      "Training Loss: 1.1747: 100%|██████████| 48/48 [00:00<00:00, 96.94it/s]\n"
     ]
    },
    {
     "name": "stdout",
     "output_type": "stream",
     "text": [
      "Validation Loss: 1.1725\n",
      "Done!\n"
     ]
    },
    {
     "data": {
      "image/png": "[encoded data removed]",
      "text/plain": [
       "<Figure size 640x480 with 1 Axes>"
      ]
     },
     "metadata": {},
     "output_type": "display_data"
    },
    {
     "data": {
      "image/png": "[encoded data removed]",
      "text/plain": [
       "<Figure size 640x480 with 1 Axes>"
      ]
     },
     "metadata": {},
     "output_type": "display_data"
    }
   ],
   "source": [
    "input_size = 384\n",
    "hidden_size = 128\n",
    "output_size =  df['label_encoded'].nunique()\n",
    "model = MLP(input_size, hidden_size, output_size)\n",
    "criterion = nn.CrossEntropyLoss()\n",
    "optimizer = optim.Adam(model.parameters(), lr=0.001)\n",
    "epochs = 5\n",
    "device = \"cuda\"\n",
    "\n",
    "model, train_losses = train(model=model, train_sample=train_sample, val_sample=val_sample, criterion=criterion, optimizer=optimizer, device=device, epochs=epochs)"
   ]
  },
  {
   "cell_type": "code",
   "execution_count": 21,
   "metadata": {},
   "outputs": [
    {
     "name": "stdout",
     "output_type": "stream",
     "text": [
      "Predicted Label: 1, actual label is 1\n",
      "I'm in search of songs that lift your spirits. Tracks that are full of positive energy and make you feel great.\n"
     ]
    },
    {
     "name": "stderr",
     "output_type": "stream",
     "text": [
      "C:\\Users\\mackm\\AppData\\Local\\Temp\\ipykernel_12848\\3078406266.py:7: UserWarning: To copy construct from a tensor, it is recommended to use sourceTensor.clone().detach() or sourceTensor.clone().detach().requires_grad_(True), rather than torch.tensor(sourceTensor).\n",
      "  input_tensor = torch.tensor(input_tensor).unsqueeze(0).float()  # Adding batch dimension and converting to float\n"
     ]
    }
   ],
   "source": [
    "# some manual testing\n",
    "# Assuming df['sentence_embeddings'][56] contains the tensor for prediction\n",
    "i = 6421\n",
    "input_tensor = df['sentence_embeddings'][i].to(device)\n",
    "\n",
    "# Convert the input tensor to a format that the model expects\n",
    "input_tensor = torch.tensor(input_tensor).unsqueeze(0).float()  # Adding batch dimension and converting to float\n",
    "\n",
    "# Ensure the model is in evaluation mode\n",
    "model.eval()\n",
    "\n",
    "# Perform the prediction\n",
    "with torch.no_grad():\n",
    "    output = model(input_tensor)\n",
    "\n",
    "# Get the predicted class\n",
    "_, predicted = torch.max(output, 1)\n",
    "\n",
    "predicted_label = predicted.item()  # Convert tensor to a Python scalar\n",
    "print(f\"Predicted Label: {predicted_label}, actual label is {df['label_encoded'][i]}\")\n",
    "print(df['query'][i])"
   ]
  },
  {
   "cell_type": "code",
   "execution_count": 22,
   "metadata": {},
   "outputs": [
    {
     "data": {
      "text/plain": [
       "0            loudness\n",
       "1             valence\n",
       "2        acousticness\n",
       "3         low valence\n",
       "4               tempo\n",
       "             ...     \n",
       "34995    danceability\n",
       "34996     speechiness\n",
       "34997    acousticness\n",
       "34998     low valence\n",
       "34999     low valence\n",
       "Name: label, Length: 35000, dtype: object"
      ]
     },
     "execution_count": 22,
     "metadata": {},
     "output_type": "execute_result"
    }
   ],
   "source": [
    "df['label']"
   ]
  },
  {
   "cell_type": "code",
   "execution_count": 23,
   "metadata": {},
   "outputs": [
    {
     "name": "stderr",
     "output_type": "stream",
     "text": [
      "C:\\Users\\mackm\\AppData\\Local\\Temp\\ipykernel_12848\\974975448.py:7: UserWarning: To copy construct from a tensor, it is recommended to use sourceTensor.clone().detach() or sourceTensor.clone().detach().requires_grad_(True), rather than torch.tensor(sourceTensor).\n",
      "  input_tensor = torch.tensor(input_tensor).unsqueeze(0).float()  # Adding batch dimension and converting to float\n"
     ]
    },
    {
     "data": {
      "text/plain": [
       "4298"
      ]
     },
     "execution_count": 23,
     "metadata": {},
     "output_type": "execute_result"
    }
   ],
   "source": [
    "# once again, testing manually\n",
    "c = 0\n",
    "for i in range (5000):\n",
    "    input_tensor = df['sentence_embeddings'][i].to(device)\n",
    "\n",
    "    # Convert the input tensor to a format that the model expects\n",
    "    input_tensor = torch.tensor(input_tensor).unsqueeze(0).float()  # Adding batch dimension and converting to float\n",
    "\n",
    "    # Ensure the model is in evaluation mode\n",
    "    model.eval()\n",
    "\n",
    "    # Perform the prediction\n",
    "    with torch.no_grad():\n",
    "        output = model(input_tensor)\n",
    "\n",
    "    # Get the predicted class\n",
    "    _, predicted = torch.max(output, 1)\n",
    "\n",
    "    predicted_label = predicted.item()  # Convert tensor to a Python scalar\n",
    "    if predicted_label == df['label_encoded'][i] and predicted_label != 0:\n",
    "        c += 1\n",
    "c"
   ]
  },
  {
   "cell_type": "code",
   "execution_count": 24,
   "metadata": {},
   "outputs": [
    {
     "name": "stdout",
     "output_type": "stream",
     "text": [
      "tensor([[0.3365, 0.3648, 0.0076, 0.0681, 0.0345, 0.0160, 0.1724]],\n",
      "       device='cuda:0'), predicted label is 1 - valence\n"
     ]
    },
    {
     "name": "stderr",
     "output_type": "stream",
     "text": [
      "C:\\Users\\mackm\\AppData\\Local\\Temp\\ipykernel_12848\\538405393.py:5: UserWarning: To copy construct from a tensor, it is recommended to use sourceTensor.clone().detach() or sourceTensor.clone().detach().requires_grad_(True), rather than torch.tensor(sourceTensor).\n",
      "  input_tensor = torch.tensor(input_tensor).unsqueeze(0).float()\n"
     ]
    }
   ],
   "source": [
    "# testing on prompts not related with music\n",
    "sentence = \"i am a programmer with 7 years of eperience\"\n",
    "emb = encode_sentence(sentence)\n",
    "input_tensor = emb.to(device)\n",
    "input_tensor = torch.tensor(input_tensor).unsqueeze(0).float()\n",
    "model.eval()\n",
    "\n",
    "with torch.no_grad():\n",
    "    output = model(input_tensor)\n",
    "\n",
    "_, predicted = torch.max(output, 1)\n",
    "\n",
    "predicted_label = predicted.item()\n",
    "\n",
    "label_encoding = df.iloc[predicted_label]['label_encoded']\n",
    "label_encoding\n",
    "torch.set_printoptions(sci_mode=False)\n",
    "print(f'{output}, predicted label is {predicted_label} - {df.loc[df[\"label_encoded\"] == predicted_label, \"label\"].iloc[0]}')"
   ]
  },
  {
   "cell_type": "code",
   "execution_count": 33,
   "metadata": {},
   "outputs": [],
   "source": [
    "def predict(sentence):\n",
    "    emb = encode_sentence(sentence)\n",
    "    input_tensor = emb.to(device)\n",
    "    input_tensor = torch.tensor(input_tensor).unsqueeze(0).float()\n",
    "    model.eval()\n",
    "\n",
    "    with torch.no_grad():\n",
    "        output = model(input_tensor)\n",
    "        output = output.cpu()\n",
    "\n",
    "    _, predicted = torch.max(output, 1)\n",
    "\n",
    "    predicted_label = predicted.item()\n",
    "    return predicted_label"
   ]
  },
  {
   "cell_type": "code",
   "execution_count": 34,
   "metadata": {},
   "outputs": [],
   "source": [
    "# actual testing\n",
    "test = pd.read_csv('./more_modified_music_queries_test_set.csv')"
   ]
  },
  {
   "cell_type": "code",
   "execution_count": 35,
   "metadata": {},
   "outputs": [
    {
     "name": "stderr",
     "output_type": "stream",
     "text": [
      "C:\\Users\\mackm\\AppData\\Local\\Temp\\ipykernel_12848\\329741749.py:4: UserWarning: To copy construct from a tensor, it is recommended to use sourceTensor.clone().detach() or sourceTensor.clone().detach().requires_grad_(True), rather than torch.tensor(sourceTensor).\n",
      "  input_tensor = torch.tensor(input_tensor).unsqueeze(0).float()\n"
     ]
    },
    {
     "data": {
      "text/plain": [
       "0"
      ]
     },
     "execution_count": 35,
     "metadata": {},
     "output_type": "execute_result"
    }
   ],
   "source": [
    "predict(test['query'][0])"
   ]
  },
  {
   "cell_type": "code",
   "execution_count": 36,
   "metadata": {},
   "outputs": [
    {
     "data": {
      "text/html": [
       "<div>\n",
       "<style scoped>\n",
       "    .dataframe tbody tr th:only-of-type {\n",
       "        vertical-align: middle;\n",
       "    }\n",
       "\n",
       "    .dataframe tbody tr th {\n",
       "        vertical-align: top;\n",
       "    }\n",
       "\n",
       "    .dataframe thead th {\n",
       "        text-align: right;\n",
       "    }\n",
       "</style>\n",
       "<table border=\"1\" class=\"dataframe\">\n",
       "  <thead>\n",
       "    <tr style=\"text-align: right;\">\n",
       "      <th></th>\n",
       "      <th>query</th>\n",
       "      <th>label</th>\n",
       "      <th>label_encoded</th>\n",
       "    </tr>\n",
       "  </thead>\n",
       "  <tbody>\n",
       "    <tr>\n",
       "      <th>0</th>\n",
       "      <td>suitable for a lively evening music needed. Al...</td>\n",
       "      <td>danceability</td>\n",
       "      <td>0</td>\n",
       "    </tr>\n",
       "    <tr>\n",
       "      <th>1</th>\n",
       "      <td>I'm looking for songs that are really powerful...</td>\n",
       "      <td>loudness</td>\n",
       "      <td>2</td>\n",
       "    </tr>\n",
       "    <tr>\n",
       "      <th>2</th>\n",
       "      <td>for deeper thoughts music needed. Also, can yo...</td>\n",
       "      <td>low valence</td>\n",
       "      <td>6</td>\n",
       "    </tr>\n",
       "    <tr>\n",
       "      <th>3</th>\n",
       "      <td>brightens the mood music needed. Also, i'm in ...</td>\n",
       "      <td>valence</td>\n",
       "      <td>1</td>\n",
       "    </tr>\n",
       "    <tr>\n",
       "      <th>4</th>\n",
       "      <td>for a quick pace music needed. Also, gets the ...</td>\n",
       "      <td>tempo</td>\n",
       "      <td>4</td>\n",
       "    </tr>\n",
       "    <tr>\n",
       "      <th>...</th>\n",
       "      <td>...</td>\n",
       "      <td>...</td>\n",
       "      <td>...</td>\n",
       "    </tr>\n",
       "    <tr>\n",
       "      <th>14995</th>\n",
       "      <td>dominates the room music needed. Also, looking...</td>\n",
       "      <td>loudness</td>\n",
       "      <td>2</td>\n",
       "    </tr>\n",
       "    <tr>\n",
       "      <th>14996</th>\n",
       "      <td>I'm in search of songs that lift your spirits....</td>\n",
       "      <td>valence</td>\n",
       "      <td>1</td>\n",
       "    </tr>\n",
       "    <tr>\n",
       "      <th>14997</th>\n",
       "      <td>dominates the room music needed. Also, really ...</td>\n",
       "      <td>loudness</td>\n",
       "      <td>2</td>\n",
       "    </tr>\n",
       "    <tr>\n",
       "      <th>14998</th>\n",
       "      <td>I'm searching for music where the lyrics and v...</td>\n",
       "      <td>speechiness</td>\n",
       "      <td>5</td>\n",
       "    </tr>\n",
       "    <tr>\n",
       "      <th>14999</th>\n",
       "      <td>really fills the room, Looking for song sugges...</td>\n",
       "      <td>loudness</td>\n",
       "      <td>2</td>\n",
       "    </tr>\n",
       "  </tbody>\n",
       "</table>\n",
       "<p>15000 rows × 3 columns</p>\n",
       "</div>"
      ],
      "text/plain": [
       "                                                   query         label  \\\n",
       "0      suitable for a lively evening music needed. Al...  danceability   \n",
       "1      I'm looking for songs that are really powerful...      loudness   \n",
       "2      for deeper thoughts music needed. Also, can yo...   low valence   \n",
       "3      brightens the mood music needed. Also, i'm in ...       valence   \n",
       "4      for a quick pace music needed. Also, gets the ...         tempo   \n",
       "...                                                  ...           ...   \n",
       "14995  dominates the room music needed. Also, looking...      loudness   \n",
       "14996  I'm in search of songs that lift your spirits....       valence   \n",
       "14997  dominates the room music needed. Also, really ...      loudness   \n",
       "14998  I'm searching for music where the lyrics and v...   speechiness   \n",
       "14999  really fills the room, Looking for song sugges...      loudness   \n",
       "\n",
       "       label_encoded  \n",
       "0                  0  \n",
       "1                  2  \n",
       "2                  6  \n",
       "3                  1  \n",
       "4                  4  \n",
       "...              ...  \n",
       "14995              2  \n",
       "14996              1  \n",
       "14997              2  \n",
       "14998              5  \n",
       "14999              2  \n",
       "\n",
       "[15000 rows x 3 columns]"
      ]
     },
     "execution_count": 36,
     "metadata": {},
     "output_type": "execute_result"
    }
   ],
   "source": [
    "test"
   ]
  },
  {
   "cell_type": "code",
   "execution_count": 37,
   "metadata": {},
   "outputs": [
    {
     "name": "stderr",
     "output_type": "stream",
     "text": [
      "  0%|          | 0/15000 [00:00<?, ?it/s]C:\\Users\\mackm\\AppData\\Local\\Temp\\ipykernel_12848\\329741749.py:4: UserWarning: To copy construct from a tensor, it is recommended to use sourceTensor.clone().detach() or sourceTensor.clone().detach().requires_grad_(True), rather than torch.tensor(sourceTensor).\n",
      "  input_tensor = torch.tensor(input_tensor).unsqueeze(0).float()\n",
      "100%|██████████| 15000/15000 [02:55<00:00, 85.53it/s] \n"
     ]
    }
   ],
   "source": [
    "predicted_labels = []\n",
    "actual_labels = test['label_encoded']\n",
    "\n",
    "for sentence in tqdm(test['query']):\n",
    "    pred = predict(sentence)\n",
    "    predicted_labels.append(pred)"
   ]
  },
  {
   "cell_type": "code",
   "execution_count": 38,
   "metadata": {},
   "outputs": [
    {
     "name": "stdout",
     "output_type": "stream",
     "text": [
      "Accuracy: 0.9821333333333333\n",
      "Precision: 0.9841193419051569\n",
      "Recall: 0.9821333333333333\n",
      "F1-score: 0.9823135047197545\n",
      "Confusion Matrix:\n",
      " [[2143    0    0    0    0    0    0]\n",
      " [   2 2141    0    0    0    0    0]\n",
      " [  73    0 2070    0    0    0    0]\n",
      " [   0    0    0 2142    0    0    0]\n",
      " [ 193    0    0    0 1950    0    0]\n",
      " [   0    0    0    0    0 2143    0]\n",
      " [   0    0    0    0    0    0 2143]]\n"
     ]
    }
   ],
   "source": [
    "from sklearn.metrics import accuracy_score, precision_score, recall_score, f1_score, confusion_matrix\n",
    "\n",
    "# Calculate Accuracy\n",
    "accuracy = accuracy_score(actual_labels, predicted_labels)\n",
    "print(\"Accuracy:\", accuracy)\n",
    "\n",
    "# Calculate Precision (you might need to adjust the average parameter if dealing with multiclass)\n",
    "precision = precision_score(actual_labels, predicted_labels, average='weighted')\n",
    "print(\"Precision:\", precision)\n",
    "\n",
    "# Calculate Recall\n",
    "recall = recall_score(actual_labels, predicted_labels, average='weighted')\n",
    "print(\"Recall:\", recall)\n",
    "\n",
    "# Calculate F1-score\n",
    "f1 = f1_score(actual_labels, predicted_labels, average='weighted')\n",
    "print(\"F1-score:\", f1)\n",
    "\n",
    "# Confusion Matrix\n",
    "conf_matrix = confusion_matrix(actual_labels, predicted_labels)\n",
    "print(\"Confusion Matrix:\\n\", conf_matrix)"
   ]
  },
  {
   "cell_type": "markdown",
   "metadata": {},
   "source": [
    "Some label info"
   ]
  },
  {
   "cell_type": "code",
   "execution_count": 39,
   "metadata": {},
   "outputs": [
    {
     "name": "stdout",
     "output_type": "stream",
     "text": [
      "0 means danceability\n",
      "1 means valence\n",
      "2 means loudness\n",
      "3 means acousticness\n",
      "4 means tempo\n",
      "5 means speechiness\n",
      "6 means low valence\n"
     ]
    }
   ],
   "source": [
    "unique_values = sorted(df['label_encoded'].unique())\n",
    "\n",
    "for i in range(min(unique_values), max(unique_values) + 1):\n",
    "    if i in unique_values:\n",
    "        label_meaning = df.loc[df['label_encoded'] == i, 'label'].iloc[0]\n",
    "        print(f\"{i} means {label_meaning}\")"
   ]
  },
  {
   "cell_type": "code",
   "execution_count": null,
   "metadata": {},
   "outputs": [],
   "source": [
    "# torch.save(model, './label_model.pt')"
   ]
  },
  {
   "cell_type": "markdown",
   "metadata": {},
   "source": [
    "Now once the model is done, let's give it a go on the songs data.\n",
    "\n",
    "For the purpose of giving well-known recommendations, only the songs of top 5k artists on Spotify will be given."
   ]
  },
  {
   "cell_type": "code",
   "execution_count": 55,
   "metadata": {},
   "outputs": [],
   "source": [
    "songs = pd.read_csv('./resources/278k songs labeled/TEST_labeled_songs_with_name.csv')\n",
    "songs = songs[songs['instrumentalness'] < 0.6]\n",
    "songs = songs[songs['tempo'] < 130]\n",
    "songs = songs[songs['liveness'] < 0.8]\n",
    "top_artists = pd.read_csv('./top10k-spotify-artist-metadata.csv')\n",
    "user_item = pd.read_csv(\"./resources/archive/jams.csv\", delimiter='\\t', on_bad_lines='skip')\n",
    "\n",
    "sorted_by10k = user_item[user_item['artist'].isin(top_artists['artist'][:5000])]\n",
    "songs = songs[songs['uri'].isin(sorted_by10k['spotify_uri'])]\n",
    "songs['low_valence'] = 1 - songs['valence']\n",
    "songs = songs.drop(columns=['Unnamed: 0.1',\t'Unnamed: 0', 'duration (ms)', 'energy', 'instrumentalness', 'liveness', 'spec_rate'])"
   ]
  },
  {
   "cell_type": "code",
   "execution_count": 56,
   "metadata": {},
   "outputs": [
    {
     "data": {
      "text/html": [
       "<div>\n",
       "<style scoped>\n",
       "    .dataframe tbody tr th:only-of-type {\n",
       "        vertical-align: middle;\n",
       "    }\n",
       "\n",
       "    .dataframe tbody tr th {\n",
       "        vertical-align: top;\n",
       "    }\n",
       "\n",
       "    .dataframe thead th {\n",
       "        text-align: right;\n",
       "    }\n",
       "</style>\n",
       "<table border=\"1\" class=\"dataframe\">\n",
       "  <thead>\n",
       "    <tr style=\"text-align: right;\">\n",
       "      <th></th>\n",
       "      <th>index</th>\n",
       "      <th>danceability</th>\n",
       "      <th>valence</th>\n",
       "      <th>loudness</th>\n",
       "      <th>acousticness</th>\n",
       "      <th>tempo</th>\n",
       "      <th>speechiness</th>\n",
       "      <th>low_valence</th>\n",
       "      <th>labels</th>\n",
       "      <th>uri</th>\n",
       "      <th>url</th>\n",
       "    </tr>\n",
       "  </thead>\n",
       "  <tbody>\n",
       "    <tr>\n",
       "      <th>0</th>\n",
       "      <td>60</td>\n",
       "      <td>0.476</td>\n",
       "      <td>0.159</td>\n",
       "      <td>-6.602</td>\n",
       "      <td>0.00397</td>\n",
       "      <td>127.934</td>\n",
       "      <td>0.0515</td>\n",
       "      <td>0.841</td>\n",
       "      <td>2</td>\n",
       "      <td>spotify:track:4WUduEPZZG6wiE9B5IklnY</td>\n",
       "      <td>https://open.spotify.com/track/4WUduEPZZG6wiE9...</td>\n",
       "    </tr>\n",
       "    <tr>\n",
       "      <th>1</th>\n",
       "      <td>71</td>\n",
       "      <td>0.717</td>\n",
       "      <td>0.464</td>\n",
       "      <td>-4.514</td>\n",
       "      <td>0.05950</td>\n",
       "      <td>111.472</td>\n",
       "      <td>0.0256</td>\n",
       "      <td>0.536</td>\n",
       "      <td>1</td>\n",
       "      <td>spotify:track:3Sz51kDvFhngNDinn8WRb5</td>\n",
       "      <td>https://open.spotify.com/track/3Sz51kDvFhngNDi...</td>\n",
       "    </tr>\n",
       "    <tr>\n",
       "      <th>2</th>\n",
       "      <td>85</td>\n",
       "      <td>0.627</td>\n",
       "      <td>0.763</td>\n",
       "      <td>-7.410</td>\n",
       "      <td>0.13300</td>\n",
       "      <td>85.999</td>\n",
       "      <td>0.0305</td>\n",
       "      <td>0.237</td>\n",
       "      <td>1</td>\n",
       "      <td>spotify:track:7iOyMOxdOULvXqUqC26spJ</td>\n",
       "      <td>https://open.spotify.com/track/7iOyMOxdOULvXqU...</td>\n",
       "    </tr>\n",
       "    <tr>\n",
       "      <th>3</th>\n",
       "      <td>105</td>\n",
       "      <td>0.719</td>\n",
       "      <td>0.625</td>\n",
       "      <td>-3.951</td>\n",
       "      <td>0.00683</td>\n",
       "      <td>124.963</td>\n",
       "      <td>0.0395</td>\n",
       "      <td>0.375</td>\n",
       "      <td>1</td>\n",
       "      <td>spotify:track:7z73ehYAn9O1XP9XlCqVtd</td>\n",
       "      <td>https://open.spotify.com/track/7z73ehYAn9O1XP9...</td>\n",
       "    </tr>\n",
       "    <tr>\n",
       "      <th>4</th>\n",
       "      <td>144</td>\n",
       "      <td>0.874</td>\n",
       "      <td>0.585</td>\n",
       "      <td>-5.667</td>\n",
       "      <td>0.02830</td>\n",
       "      <td>106.021</td>\n",
       "      <td>0.0315</td>\n",
       "      <td>0.415</td>\n",
       "      <td>1</td>\n",
       "      <td>spotify:track:0Bi1amRigSOIzLc21hOH6p</td>\n",
       "      <td>https://open.spotify.com/track/0Bi1amRigSOIzLc...</td>\n",
       "    </tr>\n",
       "    <tr>\n",
       "      <th>...</th>\n",
       "      <td>...</td>\n",
       "      <td>...</td>\n",
       "      <td>...</td>\n",
       "      <td>...</td>\n",
       "      <td>...</td>\n",
       "      <td>...</td>\n",
       "      <td>...</td>\n",
       "      <td>...</td>\n",
       "      <td>...</td>\n",
       "      <td>...</td>\n",
       "      <td>...</td>\n",
       "    </tr>\n",
       "    <tr>\n",
       "      <th>2266</th>\n",
       "      <td>277920</td>\n",
       "      <td>0.573</td>\n",
       "      <td>0.668</td>\n",
       "      <td>-5.954</td>\n",
       "      <td>0.22800</td>\n",
       "      <td>81.952</td>\n",
       "      <td>0.0562</td>\n",
       "      <td>0.332</td>\n",
       "      <td>1</td>\n",
       "      <td>spotify:track:3WBWgjyg6ew1Bq2sehB4is</td>\n",
       "      <td>https://open.spotify.com/track/3WBWgjyg6ew1Bq2...</td>\n",
       "    </tr>\n",
       "    <tr>\n",
       "      <th>2267</th>\n",
       "      <td>277925</td>\n",
       "      <td>0.619</td>\n",
       "      <td>0.709</td>\n",
       "      <td>-9.414</td>\n",
       "      <td>0.00388</td>\n",
       "      <td>115.043</td>\n",
       "      <td>0.0525</td>\n",
       "      <td>0.291</td>\n",
       "      <td>2</td>\n",
       "      <td>spotify:track:0F0MA0ns8oXwGw66B2BSXm</td>\n",
       "      <td>https://open.spotify.com/track/0F0MA0ns8oXwGw6...</td>\n",
       "    </tr>\n",
       "    <tr>\n",
       "      <th>2268</th>\n",
       "      <td>277926</td>\n",
       "      <td>0.491</td>\n",
       "      <td>0.472</td>\n",
       "      <td>-7.106</td>\n",
       "      <td>0.25000</td>\n",
       "      <td>119.250</td>\n",
       "      <td>0.0392</td>\n",
       "      <td>0.528</td>\n",
       "      <td>1</td>\n",
       "      <td>spotify:track:77NNZQSqzLNqh2A9JhLRkg</td>\n",
       "      <td>https://open.spotify.com/track/77NNZQSqzLNqh2A...</td>\n",
       "    </tr>\n",
       "    <tr>\n",
       "      <th>2269</th>\n",
       "      <td>277929</td>\n",
       "      <td>0.671</td>\n",
       "      <td>0.732</td>\n",
       "      <td>-18.064</td>\n",
       "      <td>0.25700</td>\n",
       "      <td>92.718</td>\n",
       "      <td>0.0323</td>\n",
       "      <td>0.268</td>\n",
       "      <td>1</td>\n",
       "      <td>spotify:track:2374M0fQpWi3dLnB54qaLX</td>\n",
       "      <td>https://open.spotify.com/track/2374M0fQpWi3dLn...</td>\n",
       "    </tr>\n",
       "    <tr>\n",
       "      <th>2270</th>\n",
       "      <td>277931</td>\n",
       "      <td>0.663</td>\n",
       "      <td>0.527</td>\n",
       "      <td>-7.268</td>\n",
       "      <td>0.52400</td>\n",
       "      <td>113.439</td>\n",
       "      <td>0.0479</td>\n",
       "      <td>0.473</td>\n",
       "      <td>1</td>\n",
       "      <td>spotify:track:2aSFLiDPreOVP6KHiWk4lF</td>\n",
       "      <td>https://open.spotify.com/track/2aSFLiDPreOVP6K...</td>\n",
       "    </tr>\n",
       "  </tbody>\n",
       "</table>\n",
       "<p>2271 rows × 11 columns</p>\n",
       "</div>"
      ],
      "text/plain": [
       "       index  danceability  valence  loudness  acousticness    tempo  \\\n",
       "0         60         0.476    0.159    -6.602       0.00397  127.934   \n",
       "1         71         0.717    0.464    -4.514       0.05950  111.472   \n",
       "2         85         0.627    0.763    -7.410       0.13300   85.999   \n",
       "3        105         0.719    0.625    -3.951       0.00683  124.963   \n",
       "4        144         0.874    0.585    -5.667       0.02830  106.021   \n",
       "...      ...           ...      ...       ...           ...      ...   \n",
       "2266  277920         0.573    0.668    -5.954       0.22800   81.952   \n",
       "2267  277925         0.619    0.709    -9.414       0.00388  115.043   \n",
       "2268  277926         0.491    0.472    -7.106       0.25000  119.250   \n",
       "2269  277929         0.671    0.732   -18.064       0.25700   92.718   \n",
       "2270  277931         0.663    0.527    -7.268       0.52400  113.439   \n",
       "\n",
       "      speechiness  low_valence  labels                                   uri  \\\n",
       "0          0.0515        0.841       2  spotify:track:4WUduEPZZG6wiE9B5IklnY   \n",
       "1          0.0256        0.536       1  spotify:track:3Sz51kDvFhngNDinn8WRb5   \n",
       "2          0.0305        0.237       1  spotify:track:7iOyMOxdOULvXqUqC26spJ   \n",
       "3          0.0395        0.375       1  spotify:track:7z73ehYAn9O1XP9XlCqVtd   \n",
       "4          0.0315        0.415       1  spotify:track:0Bi1amRigSOIzLc21hOH6p   \n",
       "...           ...          ...     ...                                   ...   \n",
       "2266       0.0562        0.332       1  spotify:track:3WBWgjyg6ew1Bq2sehB4is   \n",
       "2267       0.0525        0.291       2  spotify:track:0F0MA0ns8oXwGw66B2BSXm   \n",
       "2268       0.0392        0.528       1  spotify:track:77NNZQSqzLNqh2A9JhLRkg   \n",
       "2269       0.0323        0.268       1  spotify:track:2374M0fQpWi3dLnB54qaLX   \n",
       "2270       0.0479        0.473       1  spotify:track:2aSFLiDPreOVP6KHiWk4lF   \n",
       "\n",
       "                                                    url  \n",
       "0     https://open.spotify.com/track/4WUduEPZZG6wiE9...  \n",
       "1     https://open.spotify.com/track/3Sz51kDvFhngNDi...  \n",
       "2     https://open.spotify.com/track/7iOyMOxdOULvXqU...  \n",
       "3     https://open.spotify.com/track/7z73ehYAn9O1XP9...  \n",
       "4     https://open.spotify.com/track/0Bi1amRigSOIzLc...  \n",
       "...                                                 ...  \n",
       "2266  https://open.spotify.com/track/3WBWgjyg6ew1Bq2...  \n",
       "2267  https://open.spotify.com/track/0F0MA0ns8oXwGw6...  \n",
       "2268  https://open.spotify.com/track/77NNZQSqzLNqh2A...  \n",
       "2269  https://open.spotify.com/track/2374M0fQpWi3dLn...  \n",
       "2270  https://open.spotify.com/track/2aSFLiDPreOVP6K...  \n",
       "\n",
       "[2271 rows x 11 columns]"
      ]
     },
     "execution_count": 56,
     "metadata": {},
     "output_type": "execute_result"
    }
   ],
   "source": [
    "column_order = ['danceability', 'valence', 'loudness', 'acousticness', 'tempo', 'speechiness', 'low_valence', 'labels', 'uri', 'url']\n",
    "songs = songs[column_order]\n",
    "songs = songs.reset_index()\n",
    "songs"
   ]
  },
  {
   "cell_type": "code",
   "execution_count": 57,
   "metadata": {},
   "outputs": [
    {
     "data": {
      "text/html": [
       "<div>\n",
       "<style scoped>\n",
       "    .dataframe tbody tr th:only-of-type {\n",
       "        vertical-align: middle;\n",
       "    }\n",
       "\n",
       "    .dataframe tbody tr th {\n",
       "        vertical-align: top;\n",
       "    }\n",
       "\n",
       "    .dataframe thead th {\n",
       "        text-align: right;\n",
       "    }\n",
       "</style>\n",
       "<table border=\"1\" class=\"dataframe\">\n",
       "  <thead>\n",
       "    <tr style=\"text-align: right;\">\n",
       "      <th></th>\n",
       "      <th>index</th>\n",
       "      <th>danceability</th>\n",
       "      <th>valence</th>\n",
       "      <th>loudness</th>\n",
       "      <th>acousticness</th>\n",
       "      <th>tempo</th>\n",
       "      <th>speechiness</th>\n",
       "      <th>low_valence</th>\n",
       "      <th>labels</th>\n",
       "      <th>uri</th>\n",
       "      <th>url</th>\n",
       "    </tr>\n",
       "  </thead>\n",
       "  <tbody>\n",
       "    <tr>\n",
       "      <th>0</th>\n",
       "      <td>60</td>\n",
       "      <td>0.476</td>\n",
       "      <td>0.159</td>\n",
       "      <td>0.743193</td>\n",
       "      <td>0.00397</td>\n",
       "      <td>0.977997</td>\n",
       "      <td>0.0515</td>\n",
       "      <td>0.841</td>\n",
       "      <td>2</td>\n",
       "      <td>spotify:track:4WUduEPZZG6wiE9B5IklnY</td>\n",
       "      <td>https://open.spotify.com/track/4WUduEPZZG6wiE9...</td>\n",
       "    </tr>\n",
       "    <tr>\n",
       "      <th>1</th>\n",
       "      <td>71</td>\n",
       "      <td>0.717</td>\n",
       "      <td>0.464</td>\n",
       "      <td>0.822480</td>\n",
       "      <td>0.05950</td>\n",
       "      <td>0.802339</td>\n",
       "      <td>0.0256</td>\n",
       "      <td>0.536</td>\n",
       "      <td>1</td>\n",
       "      <td>spotify:track:3Sz51kDvFhngNDinn8WRb5</td>\n",
       "      <td>https://open.spotify.com/track/3Sz51kDvFhngNDi...</td>\n",
       "    </tr>\n",
       "    <tr>\n",
       "      <th>2</th>\n",
       "      <td>85</td>\n",
       "      <td>0.627</td>\n",
       "      <td>0.763</td>\n",
       "      <td>0.712512</td>\n",
       "      <td>0.13300</td>\n",
       "      <td>0.530528</td>\n",
       "      <td>0.0305</td>\n",
       "      <td>0.237</td>\n",
       "      <td>1</td>\n",
       "      <td>spotify:track:7iOyMOxdOULvXqUqC26spJ</td>\n",
       "      <td>https://open.spotify.com/track/7iOyMOxdOULvXqU...</td>\n",
       "    </tr>\n",
       "    <tr>\n",
       "      <th>3</th>\n",
       "      <td>105</td>\n",
       "      <td>0.719</td>\n",
       "      <td>0.625</td>\n",
       "      <td>0.843858</td>\n",
       "      <td>0.00683</td>\n",
       "      <td>0.946295</td>\n",
       "      <td>0.0395</td>\n",
       "      <td>0.375</td>\n",
       "      <td>1</td>\n",
       "      <td>spotify:track:7z73ehYAn9O1XP9XlCqVtd</td>\n",
       "      <td>https://open.spotify.com/track/7z73ehYAn9O1XP9...</td>\n",
       "    </tr>\n",
       "    <tr>\n",
       "      <th>4</th>\n",
       "      <td>144</td>\n",
       "      <td>0.874</td>\n",
       "      <td>0.585</td>\n",
       "      <td>0.778698</td>\n",
       "      <td>0.02830</td>\n",
       "      <td>0.744174</td>\n",
       "      <td>0.0315</td>\n",
       "      <td>0.415</td>\n",
       "      <td>1</td>\n",
       "      <td>spotify:track:0Bi1amRigSOIzLc21hOH6p</td>\n",
       "      <td>https://open.spotify.com/track/0Bi1amRigSOIzLc...</td>\n",
       "    </tr>\n",
       "    <tr>\n",
       "      <th>...</th>\n",
       "      <td>...</td>\n",
       "      <td>...</td>\n",
       "      <td>...</td>\n",
       "      <td>...</td>\n",
       "      <td>...</td>\n",
       "      <td>...</td>\n",
       "      <td>...</td>\n",
       "      <td>...</td>\n",
       "      <td>...</td>\n",
       "      <td>...</td>\n",
       "      <td>...</td>\n",
       "    </tr>\n",
       "    <tr>\n",
       "      <th>2266</th>\n",
       "      <td>277920</td>\n",
       "      <td>0.573</td>\n",
       "      <td>0.668</td>\n",
       "      <td>0.767800</td>\n",
       "      <td>0.22800</td>\n",
       "      <td>0.487345</td>\n",
       "      <td>0.0562</td>\n",
       "      <td>0.332</td>\n",
       "      <td>1</td>\n",
       "      <td>spotify:track:3WBWgjyg6ew1Bq2sehB4is</td>\n",
       "      <td>https://open.spotify.com/track/3WBWgjyg6ew1Bq2...</td>\n",
       "    </tr>\n",
       "    <tr>\n",
       "      <th>2267</th>\n",
       "      <td>277925</td>\n",
       "      <td>0.619</td>\n",
       "      <td>0.709</td>\n",
       "      <td>0.636415</td>\n",
       "      <td>0.00388</td>\n",
       "      <td>0.840443</td>\n",
       "      <td>0.0525</td>\n",
       "      <td>0.291</td>\n",
       "      <td>2</td>\n",
       "      <td>spotify:track:0F0MA0ns8oXwGw66B2BSXm</td>\n",
       "      <td>https://open.spotify.com/track/0F0MA0ns8oXwGw6...</td>\n",
       "    </tr>\n",
       "    <tr>\n",
       "      <th>2268</th>\n",
       "      <td>277926</td>\n",
       "      <td>0.491</td>\n",
       "      <td>0.472</td>\n",
       "      <td>0.724055</td>\n",
       "      <td>0.25000</td>\n",
       "      <td>0.885334</td>\n",
       "      <td>0.0392</td>\n",
       "      <td>0.528</td>\n",
       "      <td>1</td>\n",
       "      <td>spotify:track:77NNZQSqzLNqh2A9JhLRkg</td>\n",
       "      <td>https://open.spotify.com/track/77NNZQSqzLNqh2A...</td>\n",
       "    </tr>\n",
       "    <tr>\n",
       "      <th>2269</th>\n",
       "      <td>277929</td>\n",
       "      <td>0.671</td>\n",
       "      <td>0.732</td>\n",
       "      <td>0.307955</td>\n",
       "      <td>0.25700</td>\n",
       "      <td>0.602224</td>\n",
       "      <td>0.0323</td>\n",
       "      <td>0.268</td>\n",
       "      <td>1</td>\n",
       "      <td>spotify:track:2374M0fQpWi3dLnB54qaLX</td>\n",
       "      <td>https://open.spotify.com/track/2374M0fQpWi3dLn...</td>\n",
       "    </tr>\n",
       "    <tr>\n",
       "      <th>2270</th>\n",
       "      <td>277931</td>\n",
       "      <td>0.663</td>\n",
       "      <td>0.527</td>\n",
       "      <td>0.717904</td>\n",
       "      <td>0.52400</td>\n",
       "      <td>0.823328</td>\n",
       "      <td>0.0479</td>\n",
       "      <td>0.473</td>\n",
       "      <td>1</td>\n",
       "      <td>spotify:track:2aSFLiDPreOVP6KHiWk4lF</td>\n",
       "      <td>https://open.spotify.com/track/2aSFLiDPreOVP6K...</td>\n",
       "    </tr>\n",
       "  </tbody>\n",
       "</table>\n",
       "<p>2271 rows × 11 columns</p>\n",
       "</div>"
      ],
      "text/plain": [
       "       index  danceability  valence  loudness  acousticness     tempo  \\\n",
       "0         60         0.476    0.159  0.743193       0.00397  0.977997   \n",
       "1         71         0.717    0.464  0.822480       0.05950  0.802339   \n",
       "2         85         0.627    0.763  0.712512       0.13300  0.530528   \n",
       "3        105         0.719    0.625  0.843858       0.00683  0.946295   \n",
       "4        144         0.874    0.585  0.778698       0.02830  0.744174   \n",
       "...      ...           ...      ...       ...           ...       ...   \n",
       "2266  277920         0.573    0.668  0.767800       0.22800  0.487345   \n",
       "2267  277925         0.619    0.709  0.636415       0.00388  0.840443   \n",
       "2268  277926         0.491    0.472  0.724055       0.25000  0.885334   \n",
       "2269  277929         0.671    0.732  0.307955       0.25700  0.602224   \n",
       "2270  277931         0.663    0.527  0.717904       0.52400  0.823328   \n",
       "\n",
       "      speechiness  low_valence  labels                                   uri  \\\n",
       "0          0.0515        0.841       2  spotify:track:4WUduEPZZG6wiE9B5IklnY   \n",
       "1          0.0256        0.536       1  spotify:track:3Sz51kDvFhngNDinn8WRb5   \n",
       "2          0.0305        0.237       1  spotify:track:7iOyMOxdOULvXqUqC26spJ   \n",
       "3          0.0395        0.375       1  spotify:track:7z73ehYAn9O1XP9XlCqVtd   \n",
       "4          0.0315        0.415       1  spotify:track:0Bi1amRigSOIzLc21hOH6p   \n",
       "...           ...          ...     ...                                   ...   \n",
       "2266       0.0562        0.332       1  spotify:track:3WBWgjyg6ew1Bq2sehB4is   \n",
       "2267       0.0525        0.291       2  spotify:track:0F0MA0ns8oXwGw66B2BSXm   \n",
       "2268       0.0392        0.528       1  spotify:track:77NNZQSqzLNqh2A9JhLRkg   \n",
       "2269       0.0323        0.268       1  spotify:track:2374M0fQpWi3dLnB54qaLX   \n",
       "2270       0.0479        0.473       1  spotify:track:2aSFLiDPreOVP6KHiWk4lF   \n",
       "\n",
       "                                                    url  \n",
       "0     https://open.spotify.com/track/4WUduEPZZG6wiE9...  \n",
       "1     https://open.spotify.com/track/3Sz51kDvFhngNDi...  \n",
       "2     https://open.spotify.com/track/7iOyMOxdOULvXqU...  \n",
       "3     https://open.spotify.com/track/7z73ehYAn9O1XP9...  \n",
       "4     https://open.spotify.com/track/0Bi1amRigSOIzLc...  \n",
       "...                                                 ...  \n",
       "2266  https://open.spotify.com/track/3WBWgjyg6ew1Bq2...  \n",
       "2267  https://open.spotify.com/track/0F0MA0ns8oXwGw6...  \n",
       "2268  https://open.spotify.com/track/77NNZQSqzLNqh2A...  \n",
       "2269  https://open.spotify.com/track/2374M0fQpWi3dLn...  \n",
       "2270  https://open.spotify.com/track/2aSFLiDPreOVP6K...  \n",
       "\n",
       "[2271 rows x 11 columns]"
      ]
     },
     "execution_count": 57,
     "metadata": {},
     "output_type": "execute_result"
    }
   ],
   "source": [
    "# let's normalize the dataset\n",
    "songs['tempo'] = (songs['tempo'] - songs['tempo'].min()) / (songs['tempo'].max() - songs['tempo'].min())\n",
    "songs['loudness'] = (songs['loudness'] - songs['loudness'].min()) / (songs['loudness'].max() - songs['loudness'].min())\n",
    "songs['loudness'] = songs['loudness'] - songs['loudness'].min()\n",
    "songs"
   ]
  },
  {
   "cell_type": "code",
   "execution_count": 58,
   "metadata": {},
   "outputs": [
    {
     "data": {
      "text/html": [
       "<div>\n",
       "<style scoped>\n",
       "    .dataframe tbody tr th:only-of-type {\n",
       "        vertical-align: middle;\n",
       "    }\n",
       "\n",
       "    .dataframe tbody tr th {\n",
       "        vertical-align: top;\n",
       "    }\n",
       "\n",
       "    .dataframe thead th {\n",
       "        text-align: right;\n",
       "    }\n",
       "</style>\n",
       "<table border=\"1\" class=\"dataframe\">\n",
       "  <thead>\n",
       "    <tr style=\"text-align: right;\">\n",
       "      <th></th>\n",
       "      <th>index</th>\n",
       "      <th>danceability</th>\n",
       "      <th>valence</th>\n",
       "      <th>loudness</th>\n",
       "      <th>acousticness</th>\n",
       "      <th>tempo</th>\n",
       "      <th>speechiness</th>\n",
       "      <th>low_valence</th>\n",
       "      <th>labels</th>\n",
       "      <th>uri</th>\n",
       "      <th>url</th>\n",
       "      <th>song_labels</th>\n",
       "    </tr>\n",
       "  </thead>\n",
       "  <tbody>\n",
       "    <tr>\n",
       "      <th>0</th>\n",
       "      <td>60</td>\n",
       "      <td>0.476</td>\n",
       "      <td>0.159</td>\n",
       "      <td>0.743193</td>\n",
       "      <td>0.00397</td>\n",
       "      <td>0.977997</td>\n",
       "      <td>0.0515</td>\n",
       "      <td>0.841</td>\n",
       "      <td>2</td>\n",
       "      <td>spotify:track:4WUduEPZZG6wiE9B5IklnY</td>\n",
       "      <td>https://open.spotify.com/track/4WUduEPZZG6wiE9...</td>\n",
       "      <td>[0.476, 0.159, 0.7431934687677995, 0.00397, 0....</td>\n",
       "    </tr>\n",
       "    <tr>\n",
       "      <th>1</th>\n",
       "      <td>71</td>\n",
       "      <td>0.717</td>\n",
       "      <td>0.464</td>\n",
       "      <td>0.822480</td>\n",
       "      <td>0.05950</td>\n",
       "      <td>0.802339</td>\n",
       "      <td>0.0256</td>\n",
       "      <td>0.536</td>\n",
       "      <td>1</td>\n",
       "      <td>spotify:track:3Sz51kDvFhngNDinn8WRb5</td>\n",
       "      <td>https://open.spotify.com/track/3Sz51kDvFhngNDi...</td>\n",
       "      <td>[0.717, 0.464, 0.8224795898993734, 0.0595, 0.8...</td>\n",
       "    </tr>\n",
       "    <tr>\n",
       "      <th>2</th>\n",
       "      <td>85</td>\n",
       "      <td>0.627</td>\n",
       "      <td>0.763</td>\n",
       "      <td>0.712512</td>\n",
       "      <td>0.13300</td>\n",
       "      <td>0.530528</td>\n",
       "      <td>0.0305</td>\n",
       "      <td>0.237</td>\n",
       "      <td>1</td>\n",
       "      <td>spotify:track:7iOyMOxdOULvXqUqC26spJ</td>\n",
       "      <td>https://open.spotify.com/track/7iOyMOxdOULvXqU...</td>\n",
       "      <td>[0.627, 0.763, 0.7125118663375736, 0.133, 0.53...</td>\n",
       "    </tr>\n",
       "    <tr>\n",
       "      <th>3</th>\n",
       "      <td>105</td>\n",
       "      <td>0.719</td>\n",
       "      <td>0.625</td>\n",
       "      <td>0.843858</td>\n",
       "      <td>0.00683</td>\n",
       "      <td>0.946295</td>\n",
       "      <td>0.0395</td>\n",
       "      <td>0.375</td>\n",
       "      <td>1</td>\n",
       "      <td>spotify:track:7z73ehYAn9O1XP9XlCqVtd</td>\n",
       "      <td>https://open.spotify.com/track/7z73ehYAn9O1XP9...</td>\n",
       "      <td>[0.719, 0.625, 0.8438579836719194, 0.00683, 0....</td>\n",
       "    </tr>\n",
       "    <tr>\n",
       "      <th>4</th>\n",
       "      <td>144</td>\n",
       "      <td>0.874</td>\n",
       "      <td>0.585</td>\n",
       "      <td>0.778698</td>\n",
       "      <td>0.02830</td>\n",
       "      <td>0.744174</td>\n",
       "      <td>0.0315</td>\n",
       "      <td>0.415</td>\n",
       "      <td>1</td>\n",
       "      <td>spotify:track:0Bi1amRigSOIzLc21hOH6p</td>\n",
       "      <td>https://open.spotify.com/track/0Bi1amRigSOIzLc...</td>\n",
       "      <td>[0.874, 0.585, 0.7786975507879247, 0.0283, 0.7...</td>\n",
       "    </tr>\n",
       "  </tbody>\n",
       "</table>\n",
       "</div>"
      ],
      "text/plain": [
       "   index  danceability  valence  loudness  acousticness     tempo  \\\n",
       "0     60         0.476    0.159  0.743193       0.00397  0.977997   \n",
       "1     71         0.717    0.464  0.822480       0.05950  0.802339   \n",
       "2     85         0.627    0.763  0.712512       0.13300  0.530528   \n",
       "3    105         0.719    0.625  0.843858       0.00683  0.946295   \n",
       "4    144         0.874    0.585  0.778698       0.02830  0.744174   \n",
       "\n",
       "   speechiness  low_valence  labels                                   uri  \\\n",
       "0       0.0515        0.841       2  spotify:track:4WUduEPZZG6wiE9B5IklnY   \n",
       "1       0.0256        0.536       1  spotify:track:3Sz51kDvFhngNDinn8WRb5   \n",
       "2       0.0305        0.237       1  spotify:track:7iOyMOxdOULvXqUqC26spJ   \n",
       "3       0.0395        0.375       1  spotify:track:7z73ehYAn9O1XP9XlCqVtd   \n",
       "4       0.0315        0.415       1  spotify:track:0Bi1amRigSOIzLc21hOH6p   \n",
       "\n",
       "                                                 url  \\\n",
       "0  https://open.spotify.com/track/4WUduEPZZG6wiE9...   \n",
       "1  https://open.spotify.com/track/3Sz51kDvFhngNDi...   \n",
       "2  https://open.spotify.com/track/7iOyMOxdOULvXqU...   \n",
       "3  https://open.spotify.com/track/7z73ehYAn9O1XP9...   \n",
       "4  https://open.spotify.com/track/0Bi1amRigSOIzLc...   \n",
       "\n",
       "                                         song_labels  \n",
       "0  [0.476, 0.159, 0.7431934687677995, 0.00397, 0....  \n",
       "1  [0.717, 0.464, 0.8224795898993734, 0.0595, 0.8...  \n",
       "2  [0.627, 0.763, 0.7125118663375736, 0.133, 0.53...  \n",
       "3  [0.719, 0.625, 0.8438579836719194, 0.00683, 0....  \n",
       "4  [0.874, 0.585, 0.7786975507879247, 0.0283, 0.7...  "
      ]
     },
     "execution_count": 58,
     "metadata": {},
     "output_type": "execute_result"
    }
   ],
   "source": [
    "label_cols = ['danceability', 'valence', 'loudness', 'acousticness', 'tempo', 'speechiness', 'low_valence']\n",
    "songs['song_labels'] = songs.apply(lambda row: np.array(row[label_cols]), axis=1)\n",
    "songs.head(5)"
   ]
  },
  {
   "cell_type": "code",
   "execution_count": 62,
   "metadata": {},
   "outputs": [],
   "source": [
    "def give_10_songs(sentence):\n",
    "    scores = []\n",
    "    recommendations = []\n",
    "    emb = encode_sentence(sentence)\n",
    "    input_tensor = emb.to(device)\n",
    "    input_tensor = torch.tensor(input_tensor).unsqueeze(0).float()\n",
    "    model.eval()\n",
    "\n",
    "    with torch.no_grad():\n",
    "        output = model(input_tensor)\n",
    "    \n",
    "    output = output.cpu().numpy()\n",
    "    \n",
    "    for label in songs['song_labels']:\n",
    "        # label = np.delete(label, 2)\n",
    "        dist = np.linalg.norm(label - output)\n",
    "        # cos_sim = spatial.distance.cosine(output, label)\n",
    "        scores.append(dist)\n",
    "    \n",
    "    for i in range(len(scores)):\n",
    "        recommendations.append(songs['url'][i])\n",
    "    \n",
    "    pairs = list(zip(recommendations, scores))\n",
    "    sorted_pairs = sorted(pairs, key=lambda x: x[1])\n",
    "    sorted_recommendations = [pair[0] for pair in sorted_pairs]\n",
    "\n",
    "    return sorted_recommendations[:10], output"
   ]
  },
  {
   "cell_type": "code",
   "execution_count": 64,
   "metadata": {},
   "outputs": [
    {
     "name": "stderr",
     "output_type": "stream",
     "text": [
      "C:\\Users\\mackm\\AppData\\Local\\Temp\\ipykernel_12848\\329741749.py:4: UserWarning: To copy construct from a tensor, it is recommended to use sourceTensor.clone().detach() or sourceTensor.clone().detach().requires_grad_(True), rather than torch.tensor(sourceTensor).\n",
      "  input_tensor = torch.tensor(input_tensor).unsqueeze(0).float()\n"
     ]
    },
    {
     "data": {
      "text/plain": [
       "6"
      ]
     },
     "execution_count": 64,
     "metadata": {},
     "output_type": "execute_result"
    }
   ],
   "source": [
    "# let's do a Lüscher test output prediction\n",
    "luscher = \"\"\"Tries to escape from his problems, difficulties and tensions by abrupt, headstrong and ill-considered decisions or changes of direction.\n",
    "Defensive. Feels his position is threatened or inadequately established. Determined to pursue his objectives despite the anxiety induced by opposition.\n",
    "Physiological interpretation: Suppressed agitation resulting from unsatisfactory or discordant personal relationships. Can lead to irritability, angry outbursts or sexual neuroses. There is a possibility of cardiac complaints.\n",
    "Psychological interpretation: Considerable distress is arising from some unsatisfactory relationship. He feels helpless to restore affinity and any semblance of mutual trust, so the situation is regarded as a depressing and unhappy state which he must continue to tolerate. Beset to the point of nervous prostration.\n",
    "In brief: Helpless and irritable disharmony.\n",
    "Physiological interpretation: Stress resulting from frustration in his attempts to achieve security and understanding.\n",
    "Psychological interpretation: Is responsive to outside stimuli and wants to experience everything intensely, but is finding the existing situation extremely frustrating. Needs sympathetic understanding and a sense of security. Distressed by his apparent powerlessness to achieve his goals.\n",
    "In brief: Frustrated empathy.\"\"\"\n",
    "predict(luscher)"
   ]
  },
  {
   "cell_type": "code",
   "execution_count": 65,
   "metadata": {},
   "outputs": [
    {
     "name": "stdout",
     "output_type": "stream",
     "text": [
      "1. https://open.spotify.com/track/48xNw8YZxvrc3qB5IKaJ8w\n",
      "2. https://open.spotify.com/track/5BOMJwJhP84KsMLCqmTUYD\n",
      "3. https://open.spotify.com/track/4uWjXFthU2ts7QfKZDWuwR\n",
      "4. https://open.spotify.com/track/1ZqHjApl3pfzwjweTfMi0g\n",
      "5. https://open.spotify.com/track/356dWMVMXLJI6OEoq0ITf1\n",
      "6. https://open.spotify.com/track/5XDUR6VWpCtgv2hYH5GdMB\n",
      "7. https://open.spotify.com/track/1IhnbJZ7FywEL7YCyLKDgv\n",
      "8. https://open.spotify.com/track/0gEyKnHvgkrkBM6fbeHdwK\n",
      "9. https://open.spotify.com/track/1y3r6RXiJZNBV1EI0NggpS\n",
      "10. https://open.spotify.com/track/4lKWSv9JLE8B1YINRFv42O\n",
      "10\n"
     ]
    },
    {
     "name": "stderr",
     "output_type": "stream",
     "text": [
      "C:\\Users\\mackm\\AppData\\Local\\Temp\\ipykernel_12848\\1509136889.py:6: UserWarning: To copy construct from a tensor, it is recommended to use sourceTensor.clone().detach() or sourceTensor.clone().detach().requires_grad_(True), rather than torch.tensor(sourceTensor).\n",
      "  input_tensor = torch.tensor(input_tensor).unsqueeze(0).float()\n"
     ]
    }
   ],
   "source": [
    "input, output = give_10_songs(luscher)\n",
    "for i, uri in enumerate(input, 1):\n",
    "        print(f\"{i}. {uri}\")\n",
    "np.set_printoptions(suppress = True)\n",
    "print(len(input))"
   ]
  },
  {
   "cell_type": "code",
   "execution_count": 63,
   "metadata": {},
   "outputs": [
    {
     "name": "stdout",
     "output_type": "stream",
     "text": [
      "1. https://open.spotify.com/track/48xNw8YZxvrc3qB5IKaJ8w\n",
      "2. https://open.spotify.com/track/5BOMJwJhP84KsMLCqmTUYD\n",
      "3. https://open.spotify.com/track/4uWjXFthU2ts7QfKZDWuwR\n",
      "4. https://open.spotify.com/track/1ZqHjApl3pfzwjweTfMi0g\n",
      "5. https://open.spotify.com/track/356dWMVMXLJI6OEoq0ITf1\n",
      "6. https://open.spotify.com/track/5XDUR6VWpCtgv2hYH5GdMB\n",
      "7. https://open.spotify.com/track/1IhnbJZ7FywEL7YCyLKDgv\n",
      "8. https://open.spotify.com/track/0gEyKnHvgkrkBM6fbeHdwK\n",
      "9. https://open.spotify.com/track/1y3r6RXiJZNBV1EI0NggpS\n",
      "10. https://open.spotify.com/track/5VwKEmrYEN5eAPvWqrrKS2\n",
      "10\n"
     ]
    },
    {
     "name": "stderr",
     "output_type": "stream",
     "text": [
      "C:\\Users\\mackm\\AppData\\Local\\Temp\\ipykernel_12848\\1509136889.py:6: UserWarning: To copy construct from a tensor, it is recommended to use sourceTensor.clone().detach() or sourceTensor.clone().detach().requires_grad_(True), rather than torch.tensor(sourceTensor).\n",
      "  input_tensor = torch.tensor(input_tensor).unsqueeze(0).float()\n"
     ]
    }
   ],
   "source": [
    "# some generic prompt\n",
    "input, output = give_10_songs(\"\"\"sad music\"\"\")\n",
    "for i, uri in enumerate(input, 1):\n",
    "        print(f\"{i}. {uri}\")\n",
    "np.set_printoptions(suppress = True)\n",
    "print(len(input))"
   ]
  },
  {
   "cell_type": "code",
   "execution_count": 66,
   "metadata": {},
   "outputs": [
    {
     "name": "stdout",
     "output_type": "stream",
     "text": [
      "1. https://open.spotify.com/track/5QnCtH7euld6R68UwcWrte\n",
      "2. https://open.spotify.com/track/1oDCK7PW72XEZ1pE5rh87A\n",
      "3. https://open.spotify.com/track/4FylEaO7ZcbRNLhRairniu\n",
      "4. https://open.spotify.com/track/4YPYFUATiul0877A1HhSlW\n",
      "5. https://open.spotify.com/track/7hK9jnESeCfc5fIHH76jKh\n",
      "6. https://open.spotify.com/track/7a8FwfEPX4fPZjB8JytSWG\n",
      "7. https://open.spotify.com/track/4ffRlxNL1gLrvirFvWFQPX\n",
      "8. https://open.spotify.com/track/0dG69tIjOO6DSltDSINNOJ\n",
      "9. https://open.spotify.com/track/1ltSMXmvwdwnHcVY6tXKnB\n",
      "10. https://open.spotify.com/track/0wXiC2Qisd4DeehG8u6qqa\n",
      "10\n"
     ]
    },
    {
     "name": "stderr",
     "output_type": "stream",
     "text": [
      "C:\\Users\\mackm\\AppData\\Local\\Temp\\ipykernel_12848\\1509136889.py:6: UserWarning: To copy construct from a tensor, it is recommended to use sourceTensor.clone().detach() or sourceTensor.clone().detach().requires_grad_(True), rather than torch.tensor(sourceTensor).\n",
      "  input_tensor = torch.tensor(input_tensor).unsqueeze(0).float()\n"
     ]
    }
   ],
   "source": [
    "input, output = give_10_songs(\"\"\"acoustic music\"\"\")\n",
    "for i, uri in enumerate(input, 1):\n",
    "        print(f\"{i}. {uri}\")\n",
    "np.set_printoptions(suppress = True)\n",
    "print(len(input))"
   ]
  },
  {
   "cell_type": "markdown",
   "metadata": {},
   "source": [
    "Just a code to get a vector size [all songs]"
   ]
  },
  {
   "cell_type": "code",
   "execution_count": 67,
   "metadata": {},
   "outputs": [],
   "source": [
    "def give_all_songs(sentence):\n",
    "    scores = []\n",
    "    recommendations = []\n",
    "    emb = encode_sentence(sentence)\n",
    "    input_tensor = emb.to(device)\n",
    "    input_tensor = torch.tensor(input_tensor).unsqueeze(0).float()\n",
    "    model.eval()\n",
    "\n",
    "    with torch.no_grad():\n",
    "        output = model(input_tensor)\n",
    "    \n",
    "    output = output.cpu().numpy()\n",
    "    \n",
    "    for label in songs['song_labels']:\n",
    "        dist = np.linalg.norm(label - output)\n",
    "        scores.append(dist)\n",
    "    \n",
    "    for i in range(len(scores)):\n",
    "        recommendations.append(songs['uri'][i])\n",
    "    \n",
    "    pairs = list(zip(recommendations, scores))\n",
    "    sorted_pairs = sorted(pairs, key=lambda x: x[1])\n",
    "    sorted_recommendations = [pair[0] for pair in sorted_pairs]\n",
    "\n",
    "    return sorted_recommendations, output"
   ]
  },
  {
   "cell_type": "code",
   "execution_count": 68,
   "metadata": {},
   "outputs": [
    {
     "name": "stderr",
     "output_type": "stream",
     "text": [
      "C:\\Users\\mackm\\AppData\\Local\\Temp\\ipykernel_12848\\4008017233.py:6: UserWarning: To copy construct from a tensor, it is recommended to use sourceTensor.clone().detach() or sourceTensor.clone().detach().requires_grad_(True), rather than torch.tensor(sourceTensor).\n",
      "  input_tensor = torch.tensor(input_tensor).unsqueeze(0).float()\n"
     ]
    }
   ],
   "source": [
    "search_vector = give_all_songs('sad music')"
   ]
  }
 ],
 "metadata": {
  "kernelspec": {
   "display_name": "Python 3",
   "language": "python",
   "name": "python3"
  },
  "language_info": {
   "codemirror_mode": {
    "name": "ipython",
    "version": 3
   },
   "file_extension": ".py",
   "mimetype": "text/x-python",
   "name": "python",
   "nbconvert_exporter": "python",
   "pygments_lexer": "ipython3",
   "version": "3.11.5"
  }
 },
 "nbformat": 4,
 "nbformat_minor": 2
}
